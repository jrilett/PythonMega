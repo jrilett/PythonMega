{
 "cells": [
  {
   "attachments": {},
   "cell_type": "markdown",
   "metadata": {},
   "source": [
    "#  <u> Beginner  <u>"
   ]
  },
  {
   "attachments": {},
   "cell_type": "markdown",
   "metadata": {},
   "source": [
    "## Variables, Data Types, Logical Operators, Randomisation and Lists"
   ]
  },
  {
   "cell_type": "code",
   "execution_count": 7,
   "metadata": {},
   "outputs": [
    {
     "name": "stdout",
     "output_type": "stream",
     "text": [
      "Welcome to the Band Name Generator\n",
      "Your band name could be Kingston Bailey\n"
     ]
    }
   ],
   "source": [
    "# Band name generator function:\n",
    "\n",
    "print(\"Welcome to the Band Name Generator\")\n",
    "\n",
    "city_name = input(\"What's the name of the city you grew up in?\")\n",
    "\n",
    "\n",
    "pets_name = input(\"What's your pet's name?\")\n",
    "\n",
    "print(\"Your band name could be \" + city_name + \"\" + pets_name)"
   ]
  },
  {
   "cell_type": "code",
   "execution_count": 8,
   "metadata": {},
   "outputs": [
    {
     "name": "stdout",
     "output_type": "stream",
     "text": [
      "H\n"
     ]
    }
   ],
   "source": [
    "print(\"Hello\" [0]) # Subscripting"
   ]
  },
  {
   "cell_type": "code",
   "execution_count": 9,
   "metadata": {},
   "outputs": [
    {
     "name": "stdout",
     "output_type": "stream",
     "text": [
      "123456789\n"
     ]
    }
   ],
   "source": [
    "print(123_456_789) # Printing large numbers python ignored _"
   ]
  },
  {
   "cell_type": "code",
   "execution_count": 10,
   "metadata": {},
   "outputs": [
    {
     "data": {
      "text/plain": [
       "int"
      ]
     },
     "execution_count": 10,
     "metadata": {},
     "output_type": "execute_result"
    }
   ],
   "source": [
    "type(145)"
   ]
  },
  {
   "cell_type": "code",
   "execution_count": 12,
   "metadata": {},
   "outputs": [
    {
     "name": "stdout",
     "output_type": "stream",
     "text": [
      "Your name has 1 characters.\n"
     ]
    }
   ],
   "source": [
    "num_char = len(input(\"What is your name\"))\n",
    "\n",
    "str_num_char = str(num_char)\n",
    "\n",
    "print(\"Your name has \" + str_num_char + \" characters.\")"
   ]
  },
  {
   "cell_type": "code",
   "execution_count": 19,
   "metadata": {},
   "outputs": [
    {
     "name": "stdout",
     "output_type": "stream",
     "text": [
      "9\n"
     ]
    }
   ],
   "source": [
    "# 🚨 Don't change the code below 👇\n",
    "two_digit_number = input(\"Type a two digit number: \")\n",
    "# 🚨 Don't change the code above 👆\n",
    "\n",
    "sum = int(two_digit_number[0]) + int(two_digit_number[1])\n",
    "\n",
    "print(sum)"
   ]
  },
  {
   "cell_type": "code",
   "execution_count": 2,
   "metadata": {},
   "outputs": [
    {
     "name": "stdout",
     "output_type": "stream",
     "text": [
      "2.0\n",
      "27\n"
     ]
    }
   ],
   "source": [
    "print( 6 / 3) # Returns a float\n",
    "\n",
    "print (3**3) # Exponent"
   ]
  },
  {
   "cell_type": "code",
   "execution_count": 10,
   "metadata": {},
   "outputs": [
    {
     "name": "stdout",
     "output_type": "stream",
     "text": [
      "bmi index = 25\n"
     ]
    }
   ],
   "source": [
    "height = input(\"enter your height in m: \")\n",
    "weight = input(\"enter your weight in kg: \")\n",
    "\n",
    "bmi = int((float(weight))/(float(height)**2))\n",
    "\n",
    "print(\"bmi index = \" + str(bmi))"
   ]
  },
  {
   "cell_type": "code",
   "execution_count": 1,
   "metadata": {},
   "outputs": [
    {
     "name": "stdout",
     "output_type": "stream",
     "text": [
      "2\n"
     ]
    }
   ],
   "source": [
    "print (8//3) # Returns an int"
   ]
  },
  {
   "cell_type": "code",
   "execution_count": 2,
   "metadata": {},
   "outputs": [
    {
     "name": "stdout",
     "output_type": "stream",
     "text": [
      "1\n"
     ]
    }
   ],
   "source": [
    "score = 0\n",
    "\n",
    "score += 1\n",
    "\n",
    "print(score) # += can be used to quickly add to the variable"
   ]
  },
  {
   "cell_type": "code",
   "execution_count": 4,
   "metadata": {},
   "outputs": [
    {
     "data": {
      "text/plain": [
       "'Your score is 0, your height is 1.8, you are winning is True'"
      ]
     },
     "execution_count": 4,
     "metadata": {},
     "output_type": "execute_result"
    }
   ],
   "source": [
    "score = 0\n",
    "height = 1.8\n",
    "isWinning = True\n",
    "\n",
    "f\"Your score is {score}, your height is {height}, you are winning is {isWinning}\"\n",
    "\n",
    "# Using f strings to print variables"
   ]
  },
  {
   "cell_type": "code",
   "execution_count": 1,
   "metadata": {},
   "outputs": [
    {
     "name": "stdout",
     "output_type": "stream",
     "text": [
      "Welcome to the tip calculator.\n"
     ]
    },
    {
     "data": {
      "text/plain": [
       "'Each person should pay $22.0'"
      ]
     },
     "execution_count": 1,
     "metadata": {},
     "output_type": "execute_result"
    }
   ],
   "source": [
    "# Tip calculator function:\n",
    "\n",
    "print(\"Welcome to the tip calculator.\")\n",
    "\n",
    "total_bill = input(\"What was the total bill? $\")\n",
    "tip_percentage = input(\"What percentage tip would you like to give? 10, 12, or 15? \")\n",
    "people = input(\"How many people to split the bill? \")\n",
    "\n",
    "each_pay = float(total_bill)*(1.00 + (float(tip_percentage)/100.00)) / float(people)\n",
    "\n",
    "f'Each person should pay ${round(each_pay,2)}'"
   ]
  },
  {
   "cell_type": "code",
   "execution_count": 12,
   "metadata": {},
   "outputs": [
    {
     "name": "stdout",
     "output_type": "stream",
     "text": [
      "I will judge your height\n",
      "You are small\n"
     ]
    }
   ],
   "source": [
    "print(\"I will judge your height\")\n",
    "height = int(input(\"What is your height in cm? \"))\n",
    "\n",
    "if height < 183:\n",
    "    print(\"You are small\")\n",
    "else:\n",
    "    print(\"Your are tall\")\n",
    "\n",
    "# Note the indentation here for control flow logic"
   ]
  },
  {
   "cell_type": "code",
   "execution_count": 19,
   "metadata": {},
   "outputs": [
    {
     "name": "stdout",
     "output_type": "stream",
     "text": [
      "odd\n"
     ]
    }
   ],
   "source": [
    "number = input(\"What is your number? \")\n",
    "\n",
    "if int(number) % 2 < 1:\n",
    "    print(\"even\")\n",
    "else:\n",
    "    print(\"odd\")\n",
    "\n",
    "# == Must be used as to not assign a value"
   ]
  },
  {
   "cell_type": "code",
   "execution_count": 21,
   "metadata": {},
   "outputs": [
    {
     "name": "stdout",
     "output_type": "stream",
     "text": [
      "I will judge your height\n",
      "You are small\n",
      "Game over\n"
     ]
    }
   ],
   "source": [
    "# Nested if / else\n",
    "\n",
    "print(\"I will judge your height\")\n",
    "height = int(input(\"What is your height in cm? \"))\n",
    "\n",
    "if height < 183:\n",
    "    print(\"You are small\")\n",
    "    age = int(input(\"What is your age? \"))\n",
    "    if age <= 18:\n",
    "        print(\"You still have time\")\n",
    "    else:\n",
    "        print(\"Game over\")\n",
    "else:\n",
    "    print(\"Your are tall\")\n",
    "\n",
    "# Note the indentation here for control flow logic"
   ]
  },
  {
   "cell_type": "code",
   "execution_count": 24,
   "metadata": {},
   "outputs": [
    {
     "name": "stdout",
     "output_type": "stream",
     "text": [
      "Leap year\n"
     ]
    }
   ],
   "source": [
    "# Leap year calculator:\n",
    "# on every year that is evenly divisible by 4 \n",
    "#   except every year that is evenly divisible by 100\n",
    "#      unless the year is also evenly divisible by 400\n",
    "\n",
    "year = int(input(\"Which year would you like to check\"))\n",
    "\n",
    "if year % 4 == 0:\n",
    "   if year % 100 == 0:\n",
    "      if year % 400 == 0:\n",
    "         print(\"Leap year\")\n",
    "      else:\n",
    "         print(\"Not a leap year\")\n",
    "   else:\n",
    "      print(\"Not a leap year\")\n",
    "else:\n",
    "   print(\"Not a leap year\")\n",
    "   "
   ]
  },
  {
   "cell_type": "code",
   "execution_count": 2,
   "metadata": {},
   "outputs": [
    {
     "data": {
      "text/plain": [
       "False"
      ]
     },
     "execution_count": 2,
     "metadata": {},
     "output_type": "execute_result"
    }
   ],
   "source": [
    "1==0"
   ]
  },
  {
   "cell_type": "code",
   "execution_count": 14,
   "metadata": {},
   "outputs": [
    {
     "name": "stdout",
     "output_type": "stream",
     "text": [
      "Your score is 42, you are alright together.\n"
     ]
    }
   ],
   "source": [
    "# Love calculator using regex\n",
    "\n",
    "import re\n",
    "\n",
    "name1 = (input(\"What is the first name?\"))\n",
    "name2 = (input(\"What is the second name?\"))\n",
    "\n",
    "names = (name1 + name2).lower()\n",
    "\n",
    "score1 = len(re.findall('[true]', names))\n",
    "score2 = len(re.findall('[love]', names))\n",
    "\n",
    "score = int(str(score1)+str(score2))\n",
    "\n",
    "if score < 10 or score > 90:\n",
    "    print(f'Your score is {score}, you go together like coke and mentos.')\n",
    "if score >= 40 and score <= 50:\n",
    "    print(f'Your score is {score}, you are alright together.')\n",
    "else:\n",
    "    print(f'Your score is {score}.')\n"
   ]
  },
  {
   "cell_type": "code",
   "execution_count": 30,
   "metadata": {},
   "outputs": [
    {
     "name": "stdout",
     "output_type": "stream",
     "text": [
      "2\n"
     ]
    }
   ],
   "source": [
    "import random\n",
    "\n",
    "random_integer = random.randint(1, 1000)\n",
    "print(random_integer)"
   ]
  },
  {
   "cell_type": "code",
   "execution_count": null,
   "metadata": {},
   "outputs": [],
   "source": []
  },
  {
   "cell_type": "code",
   "execution_count": null,
   "metadata": {},
   "outputs": [],
   "source": []
  },
  {
   "cell_type": "code",
   "execution_count": null,
   "metadata": {},
   "outputs": [],
   "source": []
  },
  {
   "cell_type": "code",
   "execution_count": null,
   "metadata": {},
   "outputs": [],
   "source": []
  },
  {
   "cell_type": "code",
   "execution_count": null,
   "metadata": {},
   "outputs": [],
   "source": []
  },
  {
   "attachments": {},
   "cell_type": "markdown",
   "metadata": {},
   "source": [
    "## Loops, Functions & DIctionaries"
   ]
  },
  {
   "cell_type": "code",
   "execution_count": null,
   "metadata": {},
   "outputs": [],
   "source": []
  },
  {
   "cell_type": "code",
   "execution_count": null,
   "metadata": {},
   "outputs": [],
   "source": []
  },
  {
   "cell_type": "code",
   "execution_count": null,
   "metadata": {},
   "outputs": [],
   "source": []
  },
  {
   "attachments": {},
   "cell_type": "markdown",
   "metadata": {},
   "source": [
    "## Object Oriented Programming"
   ]
  },
  {
   "cell_type": "code",
   "execution_count": null,
   "metadata": {},
   "outputs": [],
   "source": []
  },
  {
   "cell_type": "code",
   "execution_count": null,
   "metadata": {},
   "outputs": [],
   "source": []
  },
  {
   "cell_type": "code",
   "execution_count": null,
   "metadata": {},
   "outputs": [],
   "source": []
  },
  {
   "attachments": {},
   "cell_type": "markdown",
   "metadata": {},
   "source": [
    "#  <u> Intermediate  <u>"
   ]
  },
  {
   "attachments": {},
   "cell_type": "markdown",
   "metadata": {},
   "source": [
    "#  <u> Intermediate II  <u>"
   ]
  },
  {
   "attachments": {},
   "cell_type": "markdown",
   "metadata": {},
   "source": [
    "#  <u> Advanced  <u>"
   ]
  }
 ],
 "metadata": {
  "kernelspec": {
   "display_name": "base",
   "language": "python",
   "name": "python3"
  },
  "language_info": {
   "codemirror_mode": {
    "name": "ipython",
    "version": 3
   },
   "file_extension": ".py",
   "mimetype": "text/x-python",
   "name": "python",
   "nbconvert_exporter": "python",
   "pygments_lexer": "ipython3",
   "version": "3.9.13"
  },
  "orig_nbformat": 4,
  "vscode": {
   "interpreter": {
    "hash": "4e554c0f2f7a9333b45f1ad43cbaba8d13466f0d1c19aed820e8d1b22faa0c1b"
   }
  }
 },
 "nbformat": 4,
 "nbformat_minor": 2
}
